{
 "cells": [
  {
   "cell_type": "code",
   "execution_count": null,
   "metadata": {},
   "outputs": [],
   "source": [
    "# testing impulations \n",
    "import pandas as pd\n",
    "from sklearn.impute import SimpleImputer\n",
    "import numpy as np\n",
    "# Create a sample DataFrame with missing values\n",
    "data = {'A': [1, 2, np.nan, 4, 5],\n",
    "        'B': [6, np.nan, 8, 9, 10],\n",
    "        'C': [11, 12, 13, np.nan, 15]}\n",
    "df = pd.DataFrame(data)\n",
    "\n",
    "# Perform imputation using mean strategy\n",
    "imputer = SimpleImputer(strategy='mean')\n",
    "imputed_data = imputer.fit_transform(df)\n",
    "\n",
    "# Convert the imputed data back to DataFrame\n",
    "imputed_df = pd.DataFrame(imputed_data, columns=df.columns)\n",
    "\n",
    "# Print the original and imputed DataFrames\n",
    "print(\"Original DataFrame:\")\n",
    "print(df)\n",
    "print(\"\\nImputed DataFrame:\")\n",
    "print(imputed_df)"
   ]
  },
  {
   "cell_type": "code",
   "execution_count": null,
   "metadata": {},
   "outputs": [],
   "source": [
    "# prepare cvs of data from CSTAD_Short_Course \n",
    "import pandas as pd\n",
    "\n",
    "# Specify the file path\n",
    "file_path = \"D:\\\\ISTAD\\\\Data analytics\\\\dataAnalytic_mini_project\\\\Data\\\\ShortCourseData.xlsx\"\n",
    "\n",
    "df = pd.read_excel(file_path)\n",
    "df = df.iloc[10:]\n",
    "df.columns = df.iloc[0]\n",
    "pd.DataFrame(df).to_csv(\"backup_short_course_data.csv\", index = False)\n",
    "print(\"Successfully\")"
   ]
  },
  {
   "cell_type": "code",
   "execution_count": null,
   "metadata": {},
   "outputs": [],
   "source": [
    "import pandas as pd\n",
    "\n",
    "data = pd.read_csv(\"backup_short_course_data.csv\")\n",
    "\n",
    "# Reformat the Academic data\n",
    "# data[\"Academic\"] = data[\"Academic\"].astype(int)\n",
    "\n",
    "# Select a specific value from the \"Academic\" column\n",
    "value = data.loc[13, \"Academic\"]\n",
    "\n",
    "# Print the data type of the selected value\n",
    "print(type(value))"
   ]
  },
  {
   "cell_type": "code",
   "execution_count": null,
   "metadata": {},
   "outputs": [],
   "source": []
  },
  {
   "cell_type": "code",
   "execution_count": null,
   "metadata": {},
   "outputs": [],
   "source": [
    "import pandas as pd\n",
    "\n",
    "data = pd.read_csv(\"backup_survey_data.csv\")\n",
    "data['Academic'] = None\n",
    "\n",
    "new_data = pd.DataFrame(df)\n",
    "print(new_data)\n",
    "new_data.to_csv(\"backup_survey_data.csv\", index = False)\n",
    "\n",
    "print(data.head())\n"
   ]
  },
  {
   "cell_type": "code",
   "execution_count": null,
   "metadata": {},
   "outputs": [],
   "source": [
    "import pandas as pd\n",
    "\n",
    "data_read = pd.read_csv(\"backup_survey_data.csv\")\n",
    "df = pd.DataFrame(data_read)\n",
    "df[\"Academic\"] = None\n",
    "academy = df['Academic']\n",
    "df.to_csv(\"backup_survey_data.csv\")\n",
    "print(academy)"
   ]
  },
  {
   "cell_type": "code",
   "execution_count": 17,
   "metadata": {},
   "outputs": [
    {
     "name": "stdout",
     "output_type": "stream",
     "text": [
      "Number of columns: 9\n"
     ]
    },
    {
     "name": "stderr",
     "output_type": "stream",
     "text": [
      "C:\\Users\\Seang\\AppData\\Local\\Temp\\ipykernel_11652\\2275291015.py:13: FutureWarning: DataFrame.fillna with 'method' is deprecated and will raise in a future version. Use obj.ffill() or obj.bfill() instead.\n",
      "  df = df.fillna(method='pad')\n"
     ]
    }
   ],
   "source": [
    "import pandas as pd\n",
    "import numpy as np\n",
    "from sklearn.impute import SimpleImputer\n",
    "\n",
    "df = pd.read_excel(\"D:\\\\ISTAD\\\\Data analytics\\\\dataAnalytic_mini_project\\\\Data\\\\IT Course Survey (Responses).xlsx\")\n",
    "\n",
    "# Drop the Timestamp column from the DataFrame\n",
    "df = df.drop(df.columns[0], axis=1)\n",
    "\n",
    "# Print the number of columns in the DataFrame\n",
    "print(\"Number of columns:\", len(df.columns))\n",
    "\n",
    "df = df.fillna(method='pad')\n",
    "\n",
    "df.to_csv(\"backup_survey_data.csv\", index=False)"
   ]
  },
  {
   "cell_type": "code",
   "execution_count": 20,
   "metadata": {},
   "outputs": [],
   "source": [
    "import pandas as pd\n",
    "import random\n",
    "\n",
    "# Read the dataset\n",
    "df = pd.read_csv(\"backup_survey_data.csv\")\n",
    "\n",
    "# Generate random sell values between 2021 and 2023\n",
    "df[\"Academic\"] = [random.randint(2021, 2023) for _ in range(len(df))]\n",
    "\n",
    "df.to_csv(\"backup_survey_data.csv\", index=False)\n"
   ]
  }
 ],
 "metadata": {
  "kernelspec": {
   "display_name": "Python 3",
   "language": "python",
   "name": "python3"
  },
  "language_info": {
   "codemirror_mode": {
    "name": "ipython",
    "version": 3
   },
   "file_extension": ".py",
   "mimetype": "text/x-python",
   "name": "python",
   "nbconvert_exporter": "python",
   "pygments_lexer": "ipython3",
   "version": "3.11.4"
  }
 },
 "nbformat": 4,
 "nbformat_minor": 2
}
