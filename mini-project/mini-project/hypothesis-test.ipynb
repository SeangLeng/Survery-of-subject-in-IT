{
 "cells": [
  {
   "cell_type": "markdown",
   "metadata": {},
   "source": [
    "### Test hypothesis"
   ]
  },
  {
   "cell_type": "code",
   "execution_count": 9,
   "metadata": {},
   "outputs": [
    {
     "name": "stdout",
     "output_type": "stream",
     "text": [
      "Data counts saved to data_counts_hypothesis.csv.\n"
     ]
    }
   ],
   "source": [
    "import csv\n",
    "from collections import Counter\n",
    "\n",
    "# Open the CSV file with the appropriate encoding\n",
    "with open('job_data.csv', 'r', encoding='utf-8') as file:\n",
    "    reader = csv.reader(file)\n",
    "    \n",
    "    # Initialize a counter\n",
    "    data_counter = Counter()\n",
    "    \n",
    "    # Iterate over the rows and count the occurrences of each data value\n",
    "    for row in reader:\n",
    "        data = row[0]  # Assuming the data is in the second column (index 1)\n",
    "        data_counter[data] += 1\n",
    "\n",
    "# # Print the counts for each unique data value\n",
    "# for data, count in data_counter.items():\n",
    "#     print(f\"{data}: {count}\")\n",
    "\n",
    "# Save the counts to a new CSV file\n",
    "output_file = 'data_counts_hypothesis.csv'\n",
    "\n",
    "with open(output_file, 'w', newline='', encoding='utf-8') as file:\n",
    "    writer = csv.writer(file)\n",
    "    \n",
    "    # Write the header row\n",
    "    writer.writerow(['Data', 'Count'])\n",
    "    \n",
    "    # Write the data counts\n",
    "    for data, count in data_counter.items():\n",
    "        writer.writerow([data, count])\n",
    "\n",
    "print(f\"Data counts saved to {output_file}.\")"
   ]
  },
  {
   "cell_type": "markdown",
   "metadata": {},
   "source": [
    "### Combine data"
   ]
  },
  {
   "cell_type": "code",
   "execution_count": 10,
   "metadata": {},
   "outputs": [],
   "source": [
    "import pandas as pd\n",
    "\n",
    "job = pd.read_csv(\"data_counts_hypothesis.csv\")\n",
    "course = pd.read_csv(\"forecast_data.csv\")\n",
    "df = pd.DataFrame(course)\n",
    "# print(df['Course'])\n",
    "\n",
    "data = pd.read_csv(\"forecast_data.csv\")\n",
    "\n",
    "# Count the occurrences of each course based on Freq\n",
    "course_counts = data.groupby('Course')['Freq'].sum().reset_index()\n",
    "\n",
    "# Rename the columns\n",
    "course_counts.columns = ['Course', 'Freq_Count']\n",
    "\n",
    "# Save the result to a new CSV file\n",
    "course_counts.to_csv(\"course_freq_counts.csv\", index=False)"
   ]
  },
  {
   "cell_type": "code",
   "execution_count": null,
   "metadata": {},
   "outputs": [],
   "source": [
    "import numpy as np\n",
    "import pandas as pd\n",
    "from scipy.stats import chi2_contingency\n",
    "\n",
    "read_data = pd.read_csv(\"final_data.csv\")\n",
    "\n",
    "observed = np.array([[30, 20, 10], [15, 25, 20], [10, 15, 30]])\n",
    "\n",
    "# Perform the chi-square test\n",
    "stat, p_value, dof, expected = chi2_contingency(observed)\n",
    "\n",
    "# Set the significance level (alpha)\n",
    "alpha = 0.05\n",
    "\n",
    "# Print the results\n",
    "print(\"Chi-square statistic:\", stat)\n",
    "print(\"Degrees of freedom:\", dof)\n",
    "print(\"P-value:\", p_value)\n",
    "print(\"Expected frequencies:\\n\", expected)\n",
    "\n",
    "# Make a decision\n",
    "if p_value < alpha:\n",
    "    print(\"Reject the null hypothesis. There is a significant relationship.\")\n",
    "else:\n",
    "    print(\"Fail to reject the null hypothesis. There is not enough evidence to suggest a significant relationship.\")"
   ]
  }
 ],
 "metadata": {
  "kernelspec": {
   "display_name": "Python 3",
   "language": "python",
   "name": "python3"
  },
  "language_info": {
   "codemirror_mode": {
    "name": "ipython",
    "version": 3
   },
   "file_extension": ".py",
   "mimetype": "text/x-python",
   "name": "python",
   "nbconvert_exporter": "python",
   "pygments_lexer": "ipython3",
   "version": "3.11.4"
  }
 },
 "nbformat": 4,
 "nbformat_minor": 2
}
